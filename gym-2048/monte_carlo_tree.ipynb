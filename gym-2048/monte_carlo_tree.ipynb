{
 "cells": [
  {
   "cell_type": "code",
   "execution_count": 1,
   "metadata": {},
   "outputs": [],
   "source": [
    "from gym_2048.envs.game2048_env import Game2048Env\n",
    "from random import randint\n",
    "import matplotlib.pyplot as plt\n",
    "import numpy as np\n",
    "import copy"
   ]
  },
  {
   "cell_type": "code",
   "execution_count": 2,
   "metadata": {},
   "outputs": [],
   "source": [
    "def random_avg_generate(game, max_sims):\n",
    "    score_per_move = []\n",
    "    current_state = copy.deepcopy(game.Matrix)\n",
    "    # print(current_state)\n",
    "    \n",
    "    for i in range(0,max_sims):\n",
    "        s = 0\n",
    "        dum_game = Game2048Env()\n",
    "        # print(current_state)\n",
    "        dum_game.set_board(copy.deepcopy(current_state))\n",
    "        # rgb = dum_game.render(mode='rgb_array')\n",
    "        # rgb = np.rot90(rgb, k=3)\n",
    "        # rgb = np.fliplr(rgb)\n",
    "        # plt.imshow(rgb)\n",
    "        # plt.show()\n",
    "        steps = 0\n",
    "        while dum_game.isend() != True:\n",
    "            try:\n",
    "                m = randint(0,3)\n",
    "                s += dum_game.move(m)\n",
    "                dum_game.add_tile()\n",
    "                steps +=1\n",
    "            except:\n",
    "                pass\n",
    "        score_per_move.append(s/steps)\n",
    "        # print(dum_game.Matrix)\n",
    "    return(np.mean(score_per_move))"
   ]
  },
  {
   "cell_type": "code",
   "execution_count": 3,
   "metadata": {},
   "outputs": [],
   "source": [
    "def best_move(game):\n",
    "    current_state = copy.deepcopy(game.Matrix)\n",
    "    score = [0,0,0,0]\n",
    "    for m in range(0,4):\n",
    "        dum_game = Game2048Env()\n",
    "        dum_game.set_board(copy.deepcopy(current_state))\n",
    "        try:\n",
    "            score[m] += dum_game.move(m)\n",
    "            dum_game.add_tile()\n",
    "            score[m] += random_avg_generate(dum_game, max_sims=50)\n",
    "        except:\n",
    "            pass\n",
    "    return(score)"
   ]
  },
  {
   "cell_type": "code",
   "execution_count": 4,
   "metadata": {},
   "outputs": [
    {
     "name": "stdout",
     "output_type": "stream",
     "text": [
      "512\n",
      "2048\n"
     ]
    }
   ],
   "source": [
    "    \n",
    "game = Game2048Env()\n",
    "while game.highest() != 2048:\n",
    "    game.reset()\n",
    "    images = []\n",
    "    moves = []\n",
    "    rgb_array = game.render(mode='rgb_array')\n",
    "    rgb_array = np.rot90(rgb_array, k=3)\n",
    "    rgb_array = np.fliplr(rgb_array)\n",
    "    images.append(rgb_array)\n",
    "    # plt.imshow(rgb_array)\n",
    "    # plt.show()\n",
    "\n",
    "    game_score = 0\n",
    "    game_score_list = [0]\n",
    "    while (game.isend() != True and game.highest()<2048):\n",
    "        scores = best_move(game)\n",
    "        m = scores.index(max(scores))\n",
    "        # if m == 0:\n",
    "        #     print(\"Moving Up\")\n",
    "        # elif m == 1:\n",
    "        #     print(\"Moving Right\")\n",
    "        # elif m == 2:\n",
    "        #     print(\"Moving Down\")\n",
    "        # elif m == 3:\n",
    "        #     print(\"Moving Left\")\n",
    "        if m == 0:\n",
    "            moves.append(\"Moving Up\")\n",
    "        elif m == 1:\n",
    "            moves.append(\"Moving Right\")\n",
    "        elif m == 2:\n",
    "            moves.append(\"Moving Down\")\n",
    "        elif m == 3:\n",
    "            moves.append(\"Moving Left\")\n",
    "        game_score += game.move(m)\n",
    "        game_score_list.append(game_score)\n",
    "        game.add_tile()\n",
    "        rgb_array = game.render(mode='rgb_array')\n",
    "        rgb_array = np.rot90(rgb_array, k=3)\n",
    "        rgb_array = np.fliplr(rgb_array)\n",
    "        images.append(rgb_array)\n",
    "        # plt.imshow(rgb_array)\n",
    "        # plt.show()\n",
    "    moves.append(\"Done\")\n",
    "    print(game.highest())\n"
   ]
  },
  {
   "cell_type": "code",
   "execution_count": null,
   "metadata": {},
   "outputs": [],
   "source": [
    "game_score_list = np.asarray(game_score_list)\n",
    "np.savetxt('monte_carlo.csv', game_score_list, delimiter=',')"
   ]
  },
  {
   "cell_type": "code",
   "execution_count": 5,
   "metadata": {},
   "outputs": [
    {
     "data": {
      "image/png": "[encoded data removed]",
      "text/plain": [
       "<Figure size 640x480 with 1 Axes>"
      ]
     },
     "metadata": {},
     "output_type": "display_data"
    }
   ],
   "source": [
    "import matplotlib.animation as animation\n",
    "\n",
    "fig, ax = plt.subplots()\n",
    "\n",
    "def update(frame):\n",
    "    ax.imshow(images[frame])\n",
    "    return ax\n",
    "\n",
    "anim = animation.FuncAnimation(fig, update, frames=len(images))\n",
    "\n",
    "Writer = animation.writers['ffmpeg']\n",
    "writer = Writer(fps=1, metadata=dict(artist='Me'), bitrate=1800)\n",
    "anim.save('my_animation.mp4', writer=writer)"
   ]
  },
  {
   "cell_type": "code",
   "execution_count": 6,
   "metadata": {},
   "outputs": [],
   "source": [
    "# # Make   each of the possible moves and simulate the rest of the game randomly for each\n",
    "# scores = [0,0,0,0]\n",
    "# max_moves = 10\n",
    "# dum_game = Game2048Env()\n",
    "# for move in range(0,4):\n",
    "#     s = 0\n",
    "#     dum_game.set_board(stored_state)\n",
    "#     rgb_array = dum_game.render(mode='rgb_array')\n",
    "#     rgb_array = np.rot90(rgb_array, k=3)\n",
    "#     rgb_array = np.fliplr(rgb_array)\n",
    "#     plt.imshow(rgb_array)\n",
    "#     plt.show()\n",
    "\n",
    "#     try:\n",
    "#         s += dum_game.move(move)\n",
    "#         dum_game.add_tile()\n",
    "#         i = 0\n",
    "#         while i < max_moves:\n",
    "#             m = randint(0,3)\n",
    "#             try:\n",
    "#                 s += dum_game.move(m)\n",
    "#                 dum_game.add_tile()\n",
    "#                 i +=1\n",
    "#             except:\n",
    "#                 pass\n",
    "\n",
    "#     except:\n",
    "#         pass\n",
    "#     scores[move] = s\n",
    "\n",
    "# print(scores)\n"
   ]
  },
  {
   "cell_type": "code",
   "execution_count": 7,
   "metadata": {},
   "outputs": [],
   "source": [
    "# rgb_array = game.render(mode='rgb_array')\n",
    "# rgb_array = np.rot90(rgb_array, k=3)\n",
    "# rgb_array = np.fliplr(rgb_array)\n",
    "# plt.imshow(rgb_array)\n",
    "# plt.show()"
   ]
  },
  {
   "cell_type": "code",
   "execution_count": 8,
   "metadata": {},
   "outputs": [],
   "source": [
    "# def get_next_best_move(game,scores):\n",
    "#     max_moves = 10\n",
    "#     dum_game = Game2048Env()\n",
    "#     for move in range(0,4):\n",
    "#         s = 0\n",
    "#         dum_game.set_board(game.Matrix)\n",
    "#         rgb = dum_game.render(mode = 'rgb_array')\n",
    "#         plt.imshow(rgb)\n",
    "#         plt.show()\n",
    "\n",
    "#         try:\n",
    "#             s += dum_game.move(move)\n",
    "#             dum_game.add_tile()\n",
    "#             i = 0\n",
    "#             while i < max_moves:\n",
    "#                 m = randint(0,3)\n",
    "#                 try:\n",
    "#                     s += dum_game.move(m)\n",
    "#                     dum_game.add_tile()\n",
    "#                     i +=1\n",
    "#                 except:\n",
    "#                     pass\n",
    "\n",
    "#         except:\n",
    "#             pass\n",
    "#         scores[move] = s\n",
    "#     return(scores)"
   ]
  }
 ],
 "metadata": {
  "kernelspec": {
   "display_name": "AI",
   "language": "python",
   "name": "python3"
  },
  "language_info": {
   "codemirror_mode": {
    "name": "ipython",
    "version": 3
   },
   "file_extension": ".py",
   "mimetype": "text/x-python",
   "name": "python",
   "nbconvert_exporter": "python",
   "pygments_lexer": "ipython3",
   "version": "3.10.0"
  },
  "orig_nbformat": 4
 },
 "nbformat": 4,
 "nbformat_minor": 2
}

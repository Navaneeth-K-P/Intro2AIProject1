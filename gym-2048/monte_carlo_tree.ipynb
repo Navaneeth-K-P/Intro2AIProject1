{
 "cells": [
  {
   "cell_type": "code",
   "execution_count": 4,
   "metadata": {},
   "outputs": [],
   "source": [
    "from gym_2048.envs.game2048_env import Game2048Env\n",
    "from random import randint"
   ]
  },
  {
   "cell_type": "code",
   "execution_count": 2,
   "metadata": {},
   "outputs": [],
   "source": [
    "game = Game2048Env()"
   ]
  },
  {
   "cell_type": "code",
   "execution_count": 3,
   "metadata": {},
   "outputs": [
    {
     "name": "stdout",
     "output_type": "stream",
     "text": [
      "0\n",
      "1\n",
      "2\n",
      "3\n"
     ]
    }
   ],
   "source": [
    "# Make   each of the possible moves and simulate the rest of the game randomly for each\n",
    "scores = [0,0,0,0]\n",
    "max_moves = 100\n",
    "dum_game = Game2048Env()\n",
    "for move in range(0,4):\n",
    "    s = 0\n",
    "    dum_game.set_board(game.Matrix)\n",
    "\n",
    "    try:\n",
    "        s += dum_game.move(move)\n",
    "        game.add_tile()\n",
    "        for i in range(0,100):\n",
    "            m = randint(0,3)\n",
    "            try:\n",
    "                \n",
    "            except:\n",
    "    except:\n",
    "        pass\n"
   ]
  }
 ],
 "metadata": {
  "kernelspec": {
   "display_name": "AI",
   "language": "python",
   "name": "python3"
  },
  "language_info": {
   "codemirror_mode": {
    "name": "ipython",
    "version": 3
   },
   "file_extension": ".py",
   "mimetype": "text/x-python",
   "name": "python",
   "nbconvert_exporter": "python",
   "pygments_lexer": "ipython3",
   "version": "3.10.0"
  },
  "orig_nbformat": 4
 },
 "nbformat": 4,
 "nbformat_minor": 2
}

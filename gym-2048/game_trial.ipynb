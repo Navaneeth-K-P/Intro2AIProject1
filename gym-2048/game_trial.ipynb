{
 "cells": [
  {
   "cell_type": "code",
   "execution_count": 4,
   "metadata": {},
   "outputs": [],
   "source": [
    "from gym_2048.envs.game2048_env import Game2048Env"
   ]
  },
  {
   "cell_type": "code",
   "execution_count": 5,
   "metadata": {},
   "outputs": [],
   "source": [
    "game = Game2048Env()"
   ]
  },
  {
   "cell_type": "code",
   "execution_count": 6,
   "metadata": {},
   "outputs": [
    {
     "name": "stdout",
     "output_type": "stream",
     "text": [
      "Score: 0\n",
      "Highest: 2\n",
      "[[0 0 0 0]\n",
      " [0 2 2 0]\n",
      " [0 0 0 0]\n",
      " [0 0 0 0]]\n"
     ]
    },
    {
     "data": {
      "text/plain": [
       "<ipykernel.iostream.OutStream at 0x29494e13460>"
      ]
     },
     "execution_count": 6,
     "metadata": {},
     "output_type": "execute_result"
    }
   ],
   "source": [
    "game.render()"
   ]
  },
  {
   "cell_type": "code",
   "execution_count": 7,
   "metadata": {},
   "outputs": [
    {
     "name": "stdout",
     "output_type": "stream",
     "text": [
      "Score: 0\n",
      "Highest: 2\n",
      "[[0 2 0 0]\n",
      " [0 0 0 0]\n",
      " [0 0 0 0]\n",
      " [0 2 2 0]]\n"
     ]
    },
    {
     "data": {
      "text/plain": [
       "<ipykernel.iostream.OutStream at 0x29494e13460>"
      ]
     },
     "execution_count": 7,
     "metadata": {},
     "output_type": "execute_result"
    }
   ],
   "source": [
    "game.move(2)\n",
    "game.add_tile()\n",
    "game.render()"
   ]
  },
  {
   "cell_type": "code",
   "execution_count": 8,
   "metadata": {},
   "outputs": [
    {
     "name": "stdout",
     "output_type": "stream",
     "text": [
      "Score: 0\n",
      "Highest: 4\n",
      "[[0 0 0 2]\n",
      " [0 0 0 0]\n",
      " [0 0 0 0]\n",
      " [0 2 0 4]]\n",
      "4\n"
     ]
    }
   ],
   "source": [
    "score = game.move(1)\n",
    "game.add_tile()\n",
    "game.render()\n",
    "print(score)"
   ]
  },
  {
   "cell_type": "code",
   "execution_count": 24,
   "metadata": {},
   "outputs": [
    {
     "ename": "IllegalMove",
     "evalue": "",
     "output_type": "error",
     "traceback": [
      "\u001b[1;31m---------------------------------------------------------------------------\u001b[0m",
      "\u001b[1;31mIllegalMove\u001b[0m                               Traceback (most recent call last)",
      "Cell \u001b[1;32mIn[24], line 1\u001b[0m\n\u001b[1;32m----> 1\u001b[0m score \u001b[39m=\u001b[39m game\u001b[39m.\u001b[39;49mmove(\u001b[39m1\u001b[39;49m)\n\u001b[0;32m      2\u001b[0m game\u001b[39m.\u001b[39madd_tile()\n\u001b[0;32m      3\u001b[0m game\u001b[39m.\u001b[39mrender()\n",
      "File \u001b[1;32mc:\\Users\\navan\\OneDrive\\Desktop\\Intro2AI\\Intro2AIProject1\\gym-2048\\gym_2048\\envs\\game2048_env.py:249\u001b[0m, in \u001b[0;36mGame2048Env.move\u001b[1;34m(self, direction, trial)\u001b[0m\n\u001b[0;32m    247\u001b[0m                     \u001b[39mself\u001b[39m\u001b[39m.\u001b[39mset(x, y, new[y])\n\u001b[0;32m    248\u001b[0m \u001b[39mif\u001b[39;00m changed \u001b[39m!=\u001b[39m \u001b[39mTrue\u001b[39;00m:\n\u001b[1;32m--> 249\u001b[0m     \u001b[39mraise\u001b[39;00m IllegalMove\n\u001b[0;32m    251\u001b[0m \u001b[39mreturn\u001b[39;00m move_score\n",
      "\u001b[1;31mIllegalMove\u001b[0m: "
     ]
    }
   ],
   "source": [
    "score = game.move(1)\n",
    "game.add_tile()\n",
    "game.render()\n",
    "print(score)"
   ]
  }
 ],
 "metadata": {
  "kernelspec": {
   "display_name": "AI",
   "language": "python",
   "name": "python3"
  },
  "language_info": {
   "codemirror_mode": {
    "name": "ipython",
    "version": 3
   },
   "file_extension": ".py",
   "mimetype": "text/x-python",
   "name": "python",
   "nbconvert_exporter": "python",
   "pygments_lexer": "ipython3",
   "version": "3.10.0"
  },
  "orig_nbformat": 4
 },
 "nbformat": 4,
 "nbformat_minor": 2
}
